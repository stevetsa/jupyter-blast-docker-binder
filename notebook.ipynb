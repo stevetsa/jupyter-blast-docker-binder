{
 "cells": [
  {
   "cell_type": "markdown",
   "metadata": {},
   "source": [
    "# BLAST Docker Jupyter Notebook\n",
    "\n",
    "This notebook is created from NCBI's [BLAST Docker documentation](https://github.com/ncbi/docker/tree/master/blast) using a customized [BLAST]((https://www.ncbi.nlm.nih.gov/books/NBK279690/) and [E-direct](https://www.ncbi.nlm.nih.gov/books/NBK179288/) Docker image. \n",
    "\n",
    "At time of testing, BLAST version is 2.7.1+ and Entrez-direct version is 11.0.  The latest version of the tools were installed using anaconda."
   ]
  },
  {
   "cell_type": "markdown",
   "metadata": {},
   "source": [
    "## How to use this notebook?\n",
    "\n",
    "Jupyter Notebook is a powerful way to share free text and code.  If you are not familiar with Jupyter Notebook, take a look at the [documentation.](https://jupyter-notebook-beginner-guide.readthedocs.io/en/latest/)     \n",
    "\n",
    "The tools are already installed using Docker in the environment that generated this notebook.  \n",
    "To get started, first click anywhere inside the code box (in grey), then click the \"Run\" button above (or by pressing shift + enter).\n"
   ]
  },
  {
   "cell_type": "code",
   "execution_count": 48,
   "metadata": {},
   "outputs": [
    {
     "name": "stdout",
     "output_type": "stream",
     "text": [
      "blastn: 2.7.1+\n",
      " Package: blast 2.7.1, build Sep 20 2018 02:20:26\n",
      "11.0\n"
     ]
    }
   ],
   "source": [
    "!blastn -version\n",
    "!efetch -version"
   ]
  },
  {
   "cell_type": "markdown",
   "metadata": {},
   "source": [
    "# What is NCBI BLAST?\n",
    "The National Center for Biotechnology Information (NCBI) Basic Local Alignment Search Tool [(BLAST)](https://www.ncbi.nlm.nih.gov/pubmed/2231712) finds regions of local similarity between sequences. The program compares nucleotide or protein sequences to sequence databases and calculates the statistical significance of matches. BLAST can be used to infer functional and evolutionary relationships between sequences as well as help identify members of gene families.\n",
    "\n",
    "For a full description of the features and capabilities of BLAST+, please refer to the [BLAST Command Line Applications User Manual](https://www.ncbi.nlm.nih.gov/books/NBK279690/).\n",
    "\n",
    "In this tutorial, BLAST consists of two steps -\n",
    "\n",
    "* Data provisioning - obtaining and staging query and index database sequences\n",
    "* Running BLAST - compare query sequence(s) against indexed database"
   ]
  },
  {
   "cell_type": "markdown",
   "metadata": {},
   "source": [
    "### Provision Data\n",
    "To create directories to save data, please run the following command block."
   ]
  },
  {
   "cell_type": "code",
   "execution_count": null,
   "metadata": {},
   "outputs": [],
   "source": [
    "%cd BLAST"
   ]
  },
  {
   "cell_type": "code",
   "execution_count": 56,
   "metadata": {},
   "outputs": [
    {
     "name": "stdout",
     "output_type": "stream",
     "text": [
      "total 32\r\n",
      "drwsrwsr-x 1 jovyan users 4096 May  8 13:29 .\r\n",
      "drwsrwsr-x 1 jovyan users 4096 May  8 13:04 ..\r\n",
      "drwxr-sr-x 2 jovyan users 4096 May  8 13:29 blastdb\r\n",
      "drwxr-sr-x 2 jovyan users 4096 May  8 13:29 fasta\r\n",
      "drwxr-sr-x 2 jovyan users 4096 May  8 13:04 .ipynb_checkpoints\r\n",
      "drwxr-sr-x 2 jovyan users 4096 May  8 13:29 queries\r\n",
      "drwxr-sr-x 2 jovyan users 4096 May  8 13:29 results\r\n"
     ]
    }
   ],
   "source": [
    "!mkdir blastdb queries fasta results\n",
    "!ls -al"
   ]
  },
  {
   "cell_type": "markdown",
   "metadata": {},
   "source": [
    "To populate these directories with sample data used in these examples, please\n",
    "run the commands below:"
   ]
  },
  {
   "cell_type": "code",
   "execution_count": 58,
   "metadata": {},
   "outputs": [],
   "source": [
    "# Retrieve sample query sequence\n",
    "!efetch -db protein -format fasta \\\n",
    "    -id P01349 > queries/P01349.fsa\n",
    "# Retrieve sample database sequences\n",
    "!efetch -db protein -format fasta \\\n",
    "    -id Q90523,P80049,P83981,P83982,P83983,P83977,P83984,P83985,P27950 \\\n",
    "    > fasta/nurse-shark-proteins.fsa"
   ]
  },
  {
   "cell_type": "markdown",
   "metadata": {},
   "source": [
    "### Create/Index BLAST databases\n",
    "\n",
    "To create the blast database, please run the command below:"
   ]
  },
  {
   "cell_type": "code",
   "execution_count": 59,
   "metadata": {},
   "outputs": [
    {
     "name": "stdout",
     "output_type": "stream",
     "text": [
      "\r\n",
      "\r\n",
      "Building a new DB, current time: 05/08/2019 13:29:18\r\n",
      "New DB name:   /home/jovyan/work/blastdb/nurse-shark-proteins\r\n",
      "New DB title:  fasta/nurse-shark-proteins.fsa\r\n",
      "Sequence type: Protein\r\n",
      "Keep MBits: T\r\n",
      "Maximum file size: 1000000000B\r\n",
      "Adding sequences from FASTA; added 7 sequences in 0.00171518 seconds.\r\n"
     ]
    }
   ],
   "source": [
    "!makeblastdb -in fasta/nurse-shark-proteins.fsa -dbtype prot \\\n",
    "    -parse_seqids -out blastdb/nurse-shark-proteins"
   ]
  },
  {
   "cell_type": "markdown",
   "metadata": {},
   "source": [
    "### Run BLAST"
   ]
  },
  {
   "cell_type": "markdown",
   "metadata": {},
   "source": [
    "To run a BLAST search, one can issue the following command:\n"
   ]
  },
  {
   "cell_type": "code",
   "execution_count": 60,
   "metadata": {},
   "outputs": [],
   "source": [
    "!blastp -query queries/P01349.fsa \\\n",
    "    -db blastdb/nurse-shark-proteins -out results/blastp.out"
   ]
  },
  {
   "cell_type": "markdown",
   "metadata": {},
   "source": [
    "The results will be stored in the `results` directory."
   ]
  },
  {
   "cell_type": "code",
   "execution_count": 61,
   "metadata": {},
   "outputs": [
    {
     "name": "stdout",
     "output_type": "stream",
     "text": [
      "BLASTP 2.7.1+\r\n",
      "\r\n",
      "\r\n",
      "Reference: Stephen F. Altschul, Thomas L. Madden, Alejandro A.\r\n",
      "Schaffer, Jinghui Zhang, Zheng Zhang, Webb Miller, and David J.\r\n",
      "Lipman (1997), \"Gapped BLAST and PSI-BLAST: a new generation of\r\n",
      "protein database search programs\", Nucleic Acids Res. 25:3389-3402.\r\n",
      "\r\n",
      "\r\n",
      "Reference for composition-based statistics: Alejandro A. Schaffer,\r\n",
      "L. Aravind, Thomas L. Madden, Sergei Shavirin, John L. Spouge, Yuri\r\n",
      "I. Wolf, Eugene V. Koonin, and Stephen F. Altschul (2001),\r\n",
      "\"Improving the accuracy of PSI-BLAST protein database searches with\r\n",
      "composition-based statistics and other refinements\", Nucleic Acids\r\n",
      "Res. 29:2994-3005.\r\n",
      "\r\n",
      "\r\n",
      "\r\n",
      "Database: fasta/nurse-shark-proteins.fsa\r\n",
      "           7 sequences; 922 total letters\r\n",
      "\r\n",
      "\r\n",
      "\r\n",
      "Query= sp|P01349.2|RELX_CARTA RecName: Full=Relaxin; Contains: RecName:\r\n",
      "Full=Relaxin B chain; Contains: RecName: Full=Relaxin A chain\r\n",
      "\r\n",
      "Length=44\r\n",
      "                                                                      Score     E\r\n",
      "Sequences producing significant alignments:                          (Bits)  Value\r\n",
      "\r\n",
      "P80049.1  RecName: Full=Fatty acid-binding protein, liver; AltNam...  14.2    0.96 \r\n",
      "\r\n",
      "\r\n",
      ">P80049.1 RecName: Full=Fatty acid-binding protein, liver; AltName: Full=Liver-type \r\n",
      "fatty acid-binding protein; Short=L-FABP\r\n",
      "Length=132\r\n",
      "\r\n",
      " Score = 14.2 bits (25),  Expect = 0.96, Method: Compositional matrix adjust.\r\n",
      " Identities = 3/9 (33%), Positives = 6/9 (67%), Gaps = 0/9 (0%)\r\n",
      "\r\n",
      "Query  2    LCGRGFIRA  10\r\n",
      "            +C R ++R \r\n",
      "Sbjct  123  VCTREYVRE  131\r\n",
      "\r\n",
      "\r\n",
      "\r\n",
      "Lambda      K        H        a         alpha\r\n",
      "   0.334    0.143    0.520    0.792     4.96 \r\n",
      "\r\n",
      "Gapped\r\n",
      "Lambda      K        H        a         alpha    sigma\r\n",
      "   0.267   0.0410    0.140     1.90     42.6     43.6 \r\n",
      "\r\n",
      "Effective search space used: 22680\r\n",
      "\r\n",
      "\r\n",
      "  Database: fasta/nurse-shark-proteins.fsa\r\n",
      "    Posted date:  May 8, 2019  1:29 PM\r\n",
      "  Number of letters in database: 922\r\n",
      "  Number of sequences in database:  7\r\n",
      "\r\n",
      "\r\n",
      "\r\n",
      "Matrix: BLOSUM62\r\n",
      "Gap Penalties: Existence: 11, Extension: 1\r\n",
      "Neighboring words threshold: 11\r\n",
      "Window for multiple hits: 40\r\n"
     ]
    }
   ],
   "source": [
    "!cat results/blastp.out"
   ]
  },
  {
   "cell_type": "markdown",
   "metadata": {},
   "source": [
    "### Additional Resources\n",
    "If you change the code in this notebook, you can download a copy of it by clicking \"File\">\"Download as\">\"Notebook.\"  The modified notebook will not be saved after you stop this Jupyter session."
   ]
  }
 ],
 "metadata": {
  "kernelspec": {
   "display_name": "Python 3",
   "language": "python",
   "name": "python3"
  },
  "language_info": {
   "codemirror_mode": {
    "name": "ipython",
    "version": 3
   },
   "file_extension": ".py",
   "mimetype": "text/x-python",
   "name": "python",
   "nbconvert_exporter": "python",
   "pygments_lexer": "ipython3",
   "version": "3.7.3"
  },
  "toc": {
   "base_numbering": 1,
   "nav_menu": {},
   "number_sections": true,
   "sideBar": true,
   "skip_h1_title": false,
   "title_cell": "Table of Contents",
   "title_sidebar": "Contents",
   "toc_cell": false,
   "toc_position": {},
   "toc_section_display": true,
   "toc_window_display": false
  }
 },
 "nbformat": 4,
 "nbformat_minor": 2
}
